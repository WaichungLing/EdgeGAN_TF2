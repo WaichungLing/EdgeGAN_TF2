{
 "cells": [
  {
   "cell_type": "markdown",
   "metadata": {
    "id": "AvCU_AXVNWu2"
   },
   "source": [
    "## Draw your sketch!"
   ]
  },
  {
   "cell_type": "code",
   "execution_count": 1,
   "metadata": {
    "id": "jlFXB6c1MWcO"
   },
   "outputs": [],
   "source": [
    "from ipywidgets import Image\n",
    "from ipywidgets import ColorPicker, IntSlider, link, AppLayout, HBox\n",
    "from ipycanvas import RoughCanvas, hold_canvas\n",
    "import numpy as np\n",
    "import random\n",
    "import os\n",
    "from PIL import Image\n",
    "import imageio"
   ]
  },
  {
   "cell_type": "code",
   "execution_count": 2,
   "metadata": {},
   "outputs": [],
   "source": [
    "catemap = {'giraffe':2, 'zebra':3, 'sheep':13}"
   ]
  },
  {
   "cell_type": "code",
   "execution_count": 3,
   "metadata": {
    "id": "a1xNtfJYVLwS"
   },
   "outputs": [],
   "source": [
    "def postprocess( rgba, background=(255,255,255)):\n",
    "    row, col, ch = rgba.shape\n",
    "    assert ch == 4, 'RGBA image has 4 channels.'\n",
    "    rgb = np.zeros( (row, col, 3), dtype='float32' )\n",
    "    r, g, b, a = rgba[:,:,0], rgba[:,:,1], rgba[:,:,2], rgba[:,:,3]\n",
    "    a = np.asarray( a, dtype='float32' ) / 255.0\n",
    "    R, G, B = background\n",
    "    rgb[:,:,0] = r * a + (1.0 - a) * R\n",
    "    rgb[:,:,1] = g * a + (1.0 - a) * G\n",
    "    rgb[:,:,2] = b * a + (1.0 - a) * B\n",
    "\n",
    "    arr = np.asarray( rgb, dtype='uint8')\n",
    "    img = Image.fromarray(np.uint8(arr)).convert('RGB')\n",
    "    img = img.resize((64,64))\n",
    "    img = np.concatenate((img, img), axis=1)\n",
    "\n",
    "    return img"
   ]
  },
  {
   "cell_type": "markdown",
   "metadata": {
    "id": "Cxm0NPkscDGW"
   },
   "source": [
    "Run this cell then you can draw your sketch"
   ]
  },
  {
   "cell_type": "code",
   "execution_count": 4,
   "metadata": {
    "colab": {
     "base_uri": "https://localhost:8080/",
     "height": 529,
     "referenced_widgets": [
      "a6aaed3e246d4c0da82a549dee24e970",
      "72c95eede8994e32b6fac3105183c831",
      "c9406737a60945e783e2ae76f2d2378a",
      "22300b3e7e3b4c8299e202f29511ff0d"
     ]
    },
    "id": "bMqewqgWMcpJ",
    "outputId": "b89f10af-92e7-4348-97bb-177614069a96"
   },
   "outputs": [
    {
     "data": {
      "application/vnd.jupyter.widget-view+json": {
       "model_id": "87b8834bd99e4e36a61d33d9b0578d85",
       "version_major": 2,
       "version_minor": 0
      },
      "text/plain": [
       "HBox(children=(RoughCanvas(height=512, sync_image_data=True, width=512),))"
      ]
     },
     "metadata": {},
     "output_type": "display_data"
    }
   ],
   "source": [
    "canvas = RoughCanvas(width=512, height=512, sync_image_data=True)\n",
    "\n",
    "drawing = False\n",
    "position = None\n",
    "shape = []\n",
    "\n",
    "\n",
    "def on_mouse_down(x, y):\n",
    "    global drawing\n",
    "    global position\n",
    "    global shape\n",
    "\n",
    "    drawing = True\n",
    "    position = (x, y)\n",
    "    shape = [position]\n",
    "\n",
    "\n",
    "def on_mouse_move(x, y):\n",
    "    global drawing\n",
    "    global position\n",
    "    global shape\n",
    "\n",
    "    if not drawing:\n",
    "        return\n",
    "\n",
    "    with hold_canvas(canvas):\n",
    "        canvas.stroke_line(position[0], position[1], x, y)\n",
    "\n",
    "        position = (x, y)\n",
    "\n",
    "    shape.append(position)\n",
    "\n",
    "\n",
    "def on_mouse_up(x, y):\n",
    "    global drawing\n",
    "    global position\n",
    "    global shape\n",
    "\n",
    "    drawing = False\n",
    "\n",
    "    with hold_canvas(canvas):\n",
    "        canvas.stroke_line(position[0], position[1], x, y)\n",
    "\n",
    "    shape = []\n",
    "\n",
    "\n",
    "canvas.on_mouse_down(on_mouse_down)\n",
    "canvas.on_mouse_move(on_mouse_move)\n",
    "canvas.on_mouse_up(on_mouse_up)\n",
    "\n",
    "canvas.stroke_style = \"#000000\"\n",
    "\n",
    "HBox((canvas,))"
   ]
  },
  {
   "cell_type": "code",
   "execution_count": 5,
   "metadata": {
    "colab": {
     "base_uri": "https://localhost:8080/",
     "height": 288
    },
    "id": "h2bw2zjBNd_q",
    "outputId": "fa12f5dd-cbcf-4d4c-dd0f-d799d0ccf569"
   },
   "outputs": [],
   "source": [
    "sketch = postprocess(canvas.get_image_data())\n",
    "category = 'giraffe'    # [sheep, giraffe, zebra]"
   ]
  },
  {
   "cell_type": "code",
   "execution_count": 6,
   "metadata": {
    "colab": {
     "base_uri": "https://localhost:8080/",
     "height": 235
    },
    "id": "4C0oTmpaSMVZ",
    "outputId": "d7ad49fd-101d-458d-eb6c-f2503c9c0a7f"
   },
   "outputs": [
    {
     "data": {
      "text/plain": [
       "<matplotlib.image.AxesImage at 0x7fba570d50f0>"
      ]
     },
     "execution_count": 6,
     "metadata": {},
     "output_type": "execute_result"
    },
    {
     "data": {
      "image/png": "[encoded data removed]",
      "text/plain": [
       "<Figure size 432x288 with 1 Axes>"
      ]
     },
     "metadata": {
      "needs_background": "light"
     },
     "output_type": "display_data"
    }
   ],
   "source": [
    "import matplotlib.pyplot as plt\n",
    "\n",
    "plt.imshow(sketch)"
   ]
  },
  {
   "cell_type": "markdown",
   "metadata": {
    "id": "fmd8kU_ncJFy"
   },
   "source": [
    "## Generate from SketchyCOCO"
   ]
  },
  {
   "cell_type": "code",
   "execution_count": 7,
   "metadata": {
    "id": "vEvExIKRWfif"
   },
   "outputs": [],
   "source": [
    "path = os.path.join('./example/dataset_example/test',str(catemap[category]))\n",
    "if not os.path.exists(path):\n",
    "  os.system('mkdir -p {}'.format(path))\n",
    "imageio.imwrite(os.path.join(path,str(random.randint(0, 100))+'.png'), sketch)"
   ]
  },
  {
   "cell_type": "code",
   "execution_count": 8,
   "metadata": {},
   "outputs": [
    {
     "name": "stderr",
     "output_type": "stream",
     "text": [
      "/opt/anaconda3/envs/269tf/lib/python3.6/site-packages/tensorflow/python/framework/dtypes.py:516: FutureWarning: Passing (type, 1) or '1type' as a synonym of type is deprecated; in a future version of numpy, it will be understood as (type, (1,)) / '(1,)type'.\n",
      "  _np_qint8 = np.dtype([(\"qint8\", np.int8, 1)])\n",
      "/opt/anaconda3/envs/269tf/lib/python3.6/site-packages/tensorflow/python/framework/dtypes.py:517: FutureWarning: Passing (type, 1) or '1type' as a synonym of type is deprecated; in a future version of numpy, it will be understood as (type, (1,)) / '(1,)type'.\n",
      "  _np_quint8 = np.dtype([(\"quint8\", np.uint8, 1)])\n",
      "/opt/anaconda3/envs/269tf/lib/python3.6/site-packages/tensorflow/python/framework/dtypes.py:518: FutureWarning: Passing (type, 1) or '1type' as a synonym of type is deprecated; in a future version of numpy, it will be understood as (type, (1,)) / '(1,)type'.\n",
      "  _np_qint16 = np.dtype([(\"qint16\", np.int16, 1)])\n",
      "/opt/anaconda3/envs/269tf/lib/python3.6/site-packages/tensorflow/python/framework/dtypes.py:519: FutureWarning: Passing (type, 1) or '1type' as a synonym of type is deprecated; in a future version of numpy, it will be understood as (type, (1,)) / '(1,)type'.\n",
      "  _np_quint16 = np.dtype([(\"quint16\", np.uint16, 1)])\n",
      "/opt/anaconda3/envs/269tf/lib/python3.6/site-packages/tensorflow/python/framework/dtypes.py:520: FutureWarning: Passing (type, 1) or '1type' as a synonym of type is deprecated; in a future version of numpy, it will be understood as (type, (1,)) / '(1,)type'.\n",
      "  _np_qint32 = np.dtype([(\"qint32\", np.int32, 1)])\n",
      "/opt/anaconda3/envs/269tf/lib/python3.6/site-packages/tensorflow/python/framework/dtypes.py:525: FutureWarning: Passing (type, 1) or '1type' as a synonym of type is deprecated; in a future version of numpy, it will be understood as (type, (1,)) / '(1,)type'.\n",
      "  np_resource = np.dtype([(\"resource\", np.ubyte, 1)])\n",
      "/opt/anaconda3/envs/269tf/lib/python3.6/site-packages/tensorboard/compat/tensorflow_stub/dtypes.py:541: FutureWarning: Passing (type, 1) or '1type' as a synonym of type is deprecated; in a future version of numpy, it will be understood as (type, (1,)) / '(1,)type'.\n",
      "  _np_qint8 = np.dtype([(\"qint8\", np.int8, 1)])\n",
      "/opt/anaconda3/envs/269tf/lib/python3.6/site-packages/tensorboard/compat/tensorflow_stub/dtypes.py:542: FutureWarning: Passing (type, 1) or '1type' as a synonym of type is deprecated; in a future version of numpy, it will be understood as (type, (1,)) / '(1,)type'.\n",
      "  _np_quint8 = np.dtype([(\"quint8\", np.uint8, 1)])\n",
      "/opt/anaconda3/envs/269tf/lib/python3.6/site-packages/tensorboard/compat/tensorflow_stub/dtypes.py:543: FutureWarning: Passing (type, 1) or '1type' as a synonym of type is deprecated; in a future version of numpy, it will be understood as (type, (1,)) / '(1,)type'.\n",
      "  _np_qint16 = np.dtype([(\"qint16\", np.int16, 1)])\n",
      "/opt/anaconda3/envs/269tf/lib/python3.6/site-packages/tensorboard/compat/tensorflow_stub/dtypes.py:544: FutureWarning: Passing (type, 1) or '1type' as a synonym of type is deprecated; in a future version of numpy, it will be understood as (type, (1,)) / '(1,)type'.\n",
      "  _np_quint16 = np.dtype([(\"quint16\", np.uint16, 1)])\n",
      "/opt/anaconda3/envs/269tf/lib/python3.6/site-packages/tensorboard/compat/tensorflow_stub/dtypes.py:545: FutureWarning: Passing (type, 1) or '1type' as a synonym of type is deprecated; in a future version of numpy, it will be understood as (type, (1,)) / '(1,)type'.\n",
      "  _np_qint32 = np.dtype([(\"qint32\", np.int32, 1)])\n",
      "/opt/anaconda3/envs/269tf/lib/python3.6/site-packages/tensorboard/compat/tensorflow_stub/dtypes.py:550: FutureWarning: Passing (type, 1) or '1type' as a synonym of type is deprecated; in a future version of numpy, it will be understood as (type, (1,)) / '(1,)type'.\n",
      "  np_resource = np.dtype([(\"resource\", np.ubyte, 1)])\n"
     ]
    },
    {
     "name": "stdout",
     "output_type": "stream",
     "text": [
      "WARNING:tensorflow:From /opt/anaconda3/envs/269tf/lib/python3.6/site-packages/tensorflow/python/ops/init_ops.py:1251: calling VarianceScaling.__init__ (from tensorflow.python.ops.init_ops) with dtype is deprecated and will be removed in a future version.\n",
      "Instructions for updating:\n",
      "Call initializer instance with the dtype argument instead of passing it to the constructor\n",
      "WARNING:tensorflow:From /Users/waichung/Desktop/EdgeGAN.nosync/edgegan/nn/__init__.py:11: The name tf.summary.image is deprecated. Please use tf.compat.v1.summary.image instead.\n",
      "\n",
      "WARNING:tensorflow:From /Users/waichung/Desktop/EdgeGAN.nosync/edgegan/nn/__init__.py:12: The name tf.summary.scalar is deprecated. Please use tf.compat.v1.summary.scalar instead.\n",
      "\n",
      "WARNING:tensorflow:From /Users/waichung/Desktop/EdgeGAN.nosync/edgegan/nn/__init__.py:13: The name tf.summary.histogram is deprecated. Please use tf.compat.v1.summary.histogram instead.\n",
      "\n",
      "WARNING:tensorflow:From /Users/waichung/Desktop/EdgeGAN.nosync/edgegan/nn/__init__.py:14: The name tf.summary.merge is deprecated. Please use tf.compat.v1.summary.merge instead.\n",
      "\n",
      "WARNING:tensorflow:From /Users/waichung/Desktop/EdgeGAN.nosync/edgegan/nn/__init__.py:15: The name tf.summary.FileWriter is deprecated. Please use tf.compat.v1.summary.FileWriter instead.\n",
      "\n",
      "WARNING:tensorflow:From /Users/waichung/Desktop/EdgeGAN.nosync/edgegan/test.py:15: The name tf.set_random_seed is deprecated. Please use tf.compat.v1.set_random_seed instead.\n",
      "\n",
      "WARNING:tensorflow:From /Users/waichung/Desktop/EdgeGAN.nosync/edgegan/test.py:130: The name tf.app.run is deprecated. Please use tf.compat.v1.app.run instead.\n",
      "\n",
      "{'?': <absl.app.HelpFlag object at 0x7fba570eea90>,\n",
      " 'D_norm': <absl.flags._flag.Flag object at 0x7fba5b839048>,\n",
      " 'E_norm': <absl.flags._flag.Flag object at 0x7fba5b82ef28>,\n",
      " 'G_norm': <absl.flags._flag.Flag object at 0x7fba5b82ef98>,\n",
      " 'alsologtostderr': <absl.flags._flag.BooleanFlag object at 0x7fba57476be0>,\n",
      " 'batch_size': <absl.flags._flag.Flag object at 0x7fba5a103400>,\n",
      " 'checkpoint_dir': <absl.flags._flag.Flag object at 0x7fba5b82e860>,\n",
      " 'crop': <absl.flags._flag.BooleanFlag object at 0x7fba5b82e9e8>,\n",
      " 'dataroot': <absl.flags._flag.Flag object at 0x7fba5b82e940>,\n",
      " 'dataset': <absl.flags._flag.Flag object at 0x7fba5b82e748>,\n",
      " 'epoch': <absl.flags._flag.Flag object at 0x7fba5b82e4e0>,\n",
      " 'gpu': <absl.flags._flag.Flag object at 0x7fba5b82e358>,\n",
      " 'help': <absl.app.HelpFlag object at 0x7fba570eea90>,\n",
      " 'helpfull': <absl.app.HelpfullFlag object at 0x7fba5b8392e8>,\n",
      " 'helpshort': <absl.app.HelpshortFlag object at 0x7fba5b8390f0>,\n",
      " 'helpxml': <absl.app.HelpXMLFlag object at 0x7fba5b839358>,\n",
      " 'if_resnet_d': <absl.flags._flag.BooleanFlag object at 0x7fba5b82ee80>,\n",
      " 'if_resnet_e': <absl.flags._flag.BooleanFlag object at 0x7fba5b82eda0>,\n",
      " 'if_resnet_g': <absl.flags._flag.BooleanFlag object at 0x7fba5b82ee10>,\n",
      " 'input_fname_pattern': <absl.flags._flag.Flag object at 0x7fba5b82e7b8>,\n",
      " 'input_height': <absl.flags._flag.Flag object at 0x7fba57200710>,\n",
      " 'input_width': <absl.flags._flag.Flag object at 0x7fba5b82e518>,\n",
      " 'learning_rate': <absl.flags._flag.Flag object at 0x7fba5b8113c8>,\n",
      " 'log_dir': <absl.flags._flag.Flag object at 0x7fba57476c88>,\n",
      " 'logdir': <absl.flags._flag.Flag object at 0x7fba5b82e8d0>,\n",
      " 'logger_levels': <absl.logging._LoggerLevelsFlag object at 0x7fba57476dd8>,\n",
      " 'logtostderr': <absl.flags._flag.BooleanFlag object at 0x7fba574766d8>,\n",
      " 'model': <absl.flags._flag.Flag object at 0x7fba5b82ed30>,\n",
      " 'multiclasses': <absl.flags._flag.BooleanFlag object at 0x7fba5b82eb00>,\n",
      " 'name': <absl.flags._flag.Flag object at 0x7fba5b82e400>,\n",
      " 'num_classes': <absl.flags._flag.Flag object at 0x7fba5b82eba8>,\n",
      " 'only_check_args': <absl.flags._flag.BooleanFlag object at 0x7fba574805c0>,\n",
      " 'op_conversion_fallback_to_while_loop': <absl.flags._flag.BooleanFlag object at 0x7fba58a5aeb8>,\n",
      " 'optim': <absl.flags._flag.Flag object at 0x7fba5b82ecc0>,\n",
      " 'output_combination': <absl.flags._flag.Flag object at 0x7fba5b82ea90>,\n",
      " 'output_height': <absl.flags._flag.Flag object at 0x7fba5b82e5f8>,\n",
      " 'output_width': <absl.flags._flag.Flag object at 0x7fba5b82e6a0>,\n",
      " 'outputsroot': <absl.flags._flag.Flag object at 0x7fba5b82e470>,\n",
      " 'pdb': <absl.flags._defines.DEFINE_alias.<locals>._FlagAlias object at 0x7fba57410208>,\n",
      " 'pdb_post_mortem': <absl.flags._flag.BooleanFlag object at 0x7fba57410198>,\n",
      " 'profile_file': <absl.flags._flag.Flag object at 0x7fba57480518>,\n",
      " 'run_with_pdb': <absl.flags._flag.BooleanFlag object at 0x7fba57465cf8>,\n",
      " 'run_with_profiling': <absl.flags._flag.BooleanFlag object at 0x7fba57480470>,\n",
      " 'showprefixforinfo': <absl.flags._flag.BooleanFlag object at 0x7fba57480048>,\n",
      " 'stderrthreshold': <absl.logging._StderrthresholdFlag object at 0x7fba57476f28>,\n",
      " 'test_output_dir': <absl.flags._flag.Flag object at 0x7fba5b82e9b0>,\n",
      " 'test_random_seed': <absl.flags._flag.Flag object at 0x7fba5a055278>,\n",
      " 'test_randomize_ordering_seed': <absl.flags._flag.Flag object at 0x7fba5a055ba8>,\n",
      " 'test_srcdir': <absl.flags._flag.Flag object at 0x7fba5a046828>,\n",
      " 'test_tmpdir': <absl.flags._flag.Flag object at 0x7fba5a04e278>,\n",
      " 'train_size': <absl.flags._flag.Flag object at 0x7fba5a1024e0>,\n",
      " 'type': <absl.flags._flag.Flag object at 0x7fba5b82ec50>,\n",
      " 'use_cprofile_for_profiling': <absl.flags._flag.BooleanFlag object at 0x7fba57480550>,\n",
      " 'v': <absl.logging._VerbosityFlag object at 0x7fba57476cf8>,\n",
      " 'verbosity': <absl.logging._VerbosityFlag object at 0x7fba57476cf8>,\n",
      " 'xml_output_file': <absl.flags._flag.Flag object at 0x7fba5a055c50>}\n",
      "WARNING:tensorflow:From /Users/waichung/Desktop/EdgeGAN.nosync/edgegan/test.py:120: The name tf.ConfigProto is deprecated. Please use tf.compat.v1.ConfigProto instead.\n",
      "\n"
     ]
    },
    {
     "name": "stderr",
     "output_type": "stream",
     "text": [
      "W0608 22:41:43.647851 4429284864 deprecation_wrapper.py:119] From /Users/waichung/Desktop/EdgeGAN.nosync/edgegan/test.py:120: The name tf.ConfigProto is deprecated. Please use tf.compat.v1.ConfigProto instead.\n",
      "\n"
     ]
    },
    {
     "name": "stdout",
     "output_type": "stream",
     "text": [
      "WARNING:tensorflow:From /Users/waichung/Desktop/EdgeGAN.nosync/edgegan/test.py:123: The name tf.Session is deprecated. Please use tf.compat.v1.Session instead.\n",
      "\n"
     ]
    },
    {
     "name": "stderr",
     "output_type": "stream",
     "text": [
      "W0608 22:41:43.649203 4429284864 deprecation_wrapper.py:119] From /Users/waichung/Desktop/EdgeGAN.nosync/edgegan/test.py:123: The name tf.Session is deprecated. Please use tf.compat.v1.Session instead.\n",
      "\n"
     ]
    },
    {
     "name": "stdout",
     "output_type": "stream",
     "text": [
      " [*] Init Encoder %s E\n",
      " [*] Init Generator %s G1\n",
      " [*] Init Generator %s G2\n",
      "WARNING:tensorflow:From /Users/waichung/Desktop/EdgeGAN.nosync/edgegan/models/edgegan.py:499: The name tf.placeholder is deprecated. Please use tf.compat.v1.placeholder instead.\n",
      "\n"
     ]
    },
    {
     "name": "stderr",
     "output_type": "stream",
     "text": [
      "W0608 22:41:43.659240 4429284864 deprecation_wrapper.py:119] From /Users/waichung/Desktop/EdgeGAN.nosync/edgegan/models/edgegan.py:499: The name tf.placeholder is deprecated. Please use tf.compat.v1.placeholder instead.\n",
      "\n"
     ]
    },
    {
     "name": "stdout",
     "output_type": "stream",
     "text": [
      "WARNING:tensorflow:From /Users/waichung/Desktop/EdgeGAN.nosync/edgegan/models/encoder.py:55: The name tf.variable_scope is deprecated. Please use tf.compat.v1.variable_scope instead.\n",
      "\n"
     ]
    },
    {
     "name": "stderr",
     "output_type": "stream",
     "text": [
      "W0608 22:41:43.670586 4429284864 deprecation_wrapper.py:119] From /Users/waichung/Desktop/EdgeGAN.nosync/edgegan/models/encoder.py:55: The name tf.variable_scope is deprecated. Please use tf.compat.v1.variable_scope instead.\n",
      "\n"
     ]
    },
    {
     "name": "stdout",
     "output_type": "stream",
     "text": [
      "WARNING:tensorflow:From /Users/waichung/Desktop/EdgeGAN.nosync/edgegan/models/encoder.py:68: The name tf.nn.avg_pool is deprecated. Please use tf.nn.avg_pool2d instead.\n",
      "\n"
     ]
    },
    {
     "name": "stderr",
     "output_type": "stream",
     "text": [
      "W0608 22:41:43.749338 4429284864 deprecation_wrapper.py:119] From /Users/waichung/Desktop/EdgeGAN.nosync/edgegan/models/encoder.py:68: The name tf.nn.avg_pool is deprecated. Please use tf.nn.avg_pool2d instead.\n",
      "\n"
     ]
    },
    {
     "name": "stdout",
     "output_type": "stream",
     "text": [
      "WARNING:tensorflow:From /Users/waichung/Desktop/EdgeGAN.nosync/edgegan/models/edgegan.py:547: The name tf.train.Saver is deprecated. Please use tf.compat.v1.train.Saver instead.\n",
      "\n"
     ]
    },
    {
     "name": "stderr",
     "output_type": "stream",
     "text": [
      "W0608 22:41:44.088232 4429284864 deprecation_wrapper.py:119] From /Users/waichung/Desktop/EdgeGAN.nosync/edgegan/models/edgegan.py:547: The name tf.train.Saver is deprecated. Please use tf.compat.v1.train.Saver instead.\n",
      "\n"
     ]
    },
    {
     "name": "stdout",
     "output_type": "stream",
     "text": [
      "---------\n",
      "Variables: name (type shape) [size]\n",
      "---------\n",
      "E/e_resnet_64_0/conv2d/w:0 (float32_ref 4x4x3x64) [3072, bytes: 12288]\n",
      "E/e_resnet_64_0/conv2d/b:0 (float32_ref 64) [64, bytes: 256]\n",
      "E/e_resnet_128_1/res1/conv2d/w:0 (float32_ref 3x3x64x128) [73728, bytes: 294912]\n",
      "E/e_resnet_128_1/res1/conv2d/b:0 (float32_ref 128) [128, bytes: 512]\n",
      "E/e_resnet_128_1/res2/conv2d/w:0 (float32_ref 3x3x128x128) [147456, bytes: 589824]\n",
      "E/e_resnet_128_1/res2/conv2d/b:0 (float32_ref 128) [128, bytes: 512]\n",
      "E/e_resnet_128_1/shortcut/conv2d/w:0 (float32_ref 1x1x64x128) [8192, bytes: 32768]\n",
      "E/e_resnet_128_1/shortcut/conv2d/b:0 (float32_ref 128) [128, bytes: 512]\n",
      "E/e_resnet_256_2/res1/conv2d/w:0 (float32_ref 3x3x128x256) [294912, bytes: 1179648]\n",
      "E/e_resnet_256_2/res1/conv2d/b:0 (float32_ref 256) [256, bytes: 1024]\n",
      "E/e_resnet_256_2/res2/conv2d/w:0 (float32_ref 3x3x256x256) [589824, bytes: 2359296]\n",
      "E/e_resnet_256_2/res2/conv2d/b:0 (float32_ref 256) [256, bytes: 1024]\n",
      "E/e_resnet_256_2/shortcut/conv2d/w:0 (float32_ref 1x1x128x256) [32768, bytes: 131072]\n",
      "E/e_resnet_256_2/shortcut/conv2d/b:0 (float32_ref 256) [256, bytes: 1024]\n",
      "E/e_resnet_512_3/res1/conv2d/w:0 (float32_ref 3x3x256x512) [1179648, bytes: 4718592]\n",
      "E/e_resnet_512_3/res1/conv2d/b:0 (float32_ref 512) [512, bytes: 2048]\n",
      "E/e_resnet_512_3/res2/conv2d/w:0 (float32_ref 3x3x512x512) [2359296, bytes: 9437184]\n",
      "E/e_resnet_512_3/res2/conv2d/b:0 (float32_ref 512) [512, bytes: 2048]\n",
      "E/e_resnet_512_3/shortcut/conv2d/w:0 (float32_ref 1x1x256x512) [131072, bytes: 524288]\n",
      "E/e_resnet_512_3/shortcut/conv2d/b:0 (float32_ref 512) [512, bytes: 2048]\n",
      "E/e_resnet_512_4/res1/conv2d/w:0 (float32_ref 3x3x512x512) [2359296, bytes: 9437184]\n",
      "E/e_resnet_512_4/res1/conv2d/b:0 (float32_ref 512) [512, bytes: 2048]\n",
      "E/e_resnet_512_4/res2/conv2d/w:0 (float32_ref 3x3x512x512) [2359296, bytes: 9437184]\n",
      "E/e_resnet_512_4/res2/conv2d/b:0 (float32_ref 512) [512, bytes: 2048]\n",
      "E/e_resnet_512_4/shortcut/conv2d/w:0 (float32_ref 1x1x512x512) [262144, bytes: 1048576]\n",
      "E/e_resnet_512_4/shortcut/conv2d/b:0 (float32_ref 512) [512, bytes: 2048]\n",
      "E/FC8_mu/w:0 (float32_ref 512x100) [51200, bytes: 204800]\n",
      "E/FC8_mu/b:0 (float32_ref 100) [100, bytes: 400]\n",
      "E/FC8_sigma/w:0 (float32_ref 512x100) [51200, bytes: 204800]\n",
      "E/FC8_sigma/b:0 (float32_ref 100) [100, bytes: 400]\n",
      "G1/g_lin_0/Matrix:0 (float32_ref 114x8192) [933888, bytes: 3735552]\n",
      "G1/g_lin_0/bias:0 (float32_ref 8192) [8192, bytes: 32768]\n",
      "G1/batch_norm/BatchNorm/beta:0 (float32_ref 512) [512, bytes: 2048]\n",
      "G1/batch_norm/BatchNorm/gamma:0 (float32_ref 512) [512, bytes: 2048]\n",
      "G1/g_dconv_1/deconv2d/w:0 (float32_ref 5x5x256x512) [3276800, bytes: 13107200]\n",
      "G1/g_dconv_1/deconv2d/b:0 (float32_ref 256) [256, bytes: 1024]\n",
      "G1/g_dconv_2/deconv2d/w:0 (float32_ref 5x5x128x256) [819200, bytes: 3276800]\n",
      "G1/g_dconv_2/deconv2d/b:0 (float32_ref 128) [128, bytes: 512]\n",
      "G1/g_dconv_3/deconv2d/w:0 (float32_ref 5x5x64x128) [204800, bytes: 819200]\n",
      "G1/g_dconv_3/deconv2d/b:0 (float32_ref 64) [64, bytes: 256]\n",
      "G1/g_dconv_4/deconv2d/w:0 (float32_ref 5x5x3x64) [4800, bytes: 19200]\n",
      "G1/g_dconv_4/deconv2d/b:0 (float32_ref 3) [3, bytes: 12]\n",
      "G2/g_lin_0/Matrix:0 (float32_ref 114x8192) [933888, bytes: 3735552]\n",
      "G2/g_lin_0/bias:0 (float32_ref 8192) [8192, bytes: 32768]\n",
      "G2/batch_norm/BatchNorm/beta:0 (float32_ref 512) [512, bytes: 2048]\n",
      "G2/batch_norm/BatchNorm/gamma:0 (float32_ref 512) [512, bytes: 2048]\n",
      "G2/g_dconv_1/deconv2d/w:0 (float32_ref 5x5x256x512) [3276800, bytes: 13107200]\n",
      "G2/g_dconv_1/deconv2d/b:0 (float32_ref 256) [256, bytes: 1024]\n",
      "G2/g_dconv_2/deconv2d/w:0 (float32_ref 5x5x128x256) [819200, bytes: 3276800]\n",
      "G2/g_dconv_2/deconv2d/b:0 (float32_ref 128) [128, bytes: 512]\n",
      "G2/g_dconv_3/deconv2d/w:0 (float32_ref 5x5x64x128) [204800, bytes: 819200]\n",
      "G2/g_dconv_3/deconv2d/b:0 (float32_ref 64) [64, bytes: 256]\n",
      "G2/g_dconv_4/deconv2d/w:0 (float32_ref 5x5x3x64) [4800, bytes: 19200]\n",
      "G2/g_dconv_4/deconv2d/b:0 (float32_ref 3) [3, bytes: 12]\n",
      "Total size of variables: 20405902\n",
      "Total bytes of variables: 81623608\n",
      " [*] Reading checkpoints outputs/edgegan/checkpoints...\n",
      "WARNING:tensorflow:From /opt/anaconda3/envs/269tf/lib/python3.6/site-packages/tensorflow/python/training/saver.py:1276: checkpoint_exists (from tensorflow.python.training.checkpoint_management) is deprecated and will be removed in a future version.\n",
      "Instructions for updating:\n",
      "Use standard file APIs to check for files with this prefix.\n"
     ]
    },
    {
     "name": "stderr",
     "output_type": "stream",
     "text": [
      "W0608 22:41:44.361255 4429284864 deprecation.py:323] From /opt/anaconda3/envs/269tf/lib/python3.6/site-packages/tensorflow/python/training/saver.py:1276: checkpoint_exists (from tensorflow.python.training.checkpoint_management) is deprecated and will be removed in a future version.\n",
      "Instructions for updating:\n",
      "Use standard file APIs to check for files with this prefix.\n"
     ]
    },
    {
     "name": "stdout",
     "output_type": "stream",
     "text": [
      "INFO:tensorflow:Restoring parameters from outputs/edgegan/checkpoints/DCGAN.model-28002\n"
     ]
    },
    {
     "name": "stderr",
     "output_type": "stream",
     "text": [
      "I0608 22:41:44.364164 4429284864 saver.py:1280] Restoring parameters from outputs/edgegan/checkpoints/DCGAN.model-28002\n"
     ]
    },
    {
     "name": "stdout",
     "output_type": "stream",
     "text": [
      " [*] Success to read DCGAN.model-28002\n",
      " [*] Load SUCCESS\n",
      "Test: [   0/   5]\n",
      "Test: [   1/   5]\n",
      "Test: [   2/   5]\n",
      "Test: [   3/   5]\n",
      "Test: [   4/   5]\n"
     ]
    }
   ],
   "source": [
    "%run edgegan/test.py --name=edgegan --dataroot=example --dataset=dataset_example --gpu=0"
   ]
  },
  {
   "cell_type": "code",
   "execution_count": null,
   "metadata": {},
   "outputs": [],
   "source": []
  }
 ],
 "metadata": {
  "colab": {
   "name": "From SketchyCOCO to EdgeConnect!",
   "provenance": []
  },
  "kernelspec": {
   "display_name": "Python 3",
   "language": "python",
   "name": "python3"
  },
  "language_info": {
   "codemirror_mode": {
    "name": "ipython",
    "version": 3
   },
   "file_extension": ".py",
   "mimetype": "text/x-python",
   "name": "python",
   "nbconvert_exporter": "python",
   "pygments_lexer": "ipython3",
   "version": "3.6.13"
  },
  "varInspector": {
   "cols": {
    "lenName": 16,
    "lenType": 16,
    "lenVar": 40
   },
   "kernels_config": {
    "python": {
     "delete_cmd_postfix": "",
     "delete_cmd_prefix": "del ",
     "library": "var_list.py",
     "varRefreshCmd": "print(var_dic_list())"
    },
    "r": {
     "delete_cmd_postfix": ") ",
     "delete_cmd_prefix": "rm(",
     "library": "var_list.r",
     "varRefreshCmd": "cat(var_dic_list()) "
    }
   },
   "types_to_exclude": [
    "module",
    "function",
    "builtin_function_or_method",
    "instance",
    "_Feature"
   ],
   "window_display": false
  },
  "widgets": {
   "application/vnd.jupyter.widget-state+json": {
    "22300b3e7e3b4c8299e202f29511ff0d": {
     "model_module": "@jupyter-widgets/base",
     "model_module_version": "1.2.0",
     "model_name": "LayoutModel",
     "state": {
      "_model_module": "@jupyter-widgets/base",
      "_model_module_version": "1.2.0",
      "_model_name": "LayoutModel",
      "_view_count": null,
      "_view_module": "@jupyter-widgets/base",
      "_view_module_version": "1.2.0",
      "_view_name": "LayoutView",
      "align_content": null,
      "align_items": null,
      "align_self": null,
      "border": null,
      "bottom": null,
      "display": null,
      "flex": null,
      "flex_flow": null,
      "grid_area": null,
      "grid_auto_columns": null,
      "grid_auto_flow": null,
      "grid_auto_rows": null,
      "grid_column": null,
      "grid_gap": null,
      "grid_row": null,
      "grid_template_areas": null,
      "grid_template_columns": null,
      "grid_template_rows": null,
      "height": null,
      "justify_content": null,
      "justify_items": null,
      "left": null,
      "margin": null,
      "max_height": null,
      "max_width": null,
      "min_height": null,
      "min_width": null,
      "object_fit": null,
      "object_position": null,
      "order": null,
      "overflow": null,
      "overflow_x": null,
      "overflow_y": null,
      "padding": null,
      "right": null,
      "top": null,
      "visibility": null,
      "width": null
     }
    },
    "72c95eede8994e32b6fac3105183c831": {
     "model_module": "ipycanvas",
     "model_module_version": "^0.12",
     "model_name": "RoughCanvasModel",
     "state": {
      "_dom_classes": [],
      "_model_module": "ipycanvas",
      "_model_module_version": "^0.12",
      "_model_name": "RoughCanvasModel",
      "_send_client_ready_event": true,
      "_view_count": null,
      "_view_module": "ipycanvas",
      "_view_module_version": "^0.12",
      "_view_name": "CanvasView",
      "height": 512,
      "image_data": null,
      "layout": "IPY_MODEL_22300b3e7e3b4c8299e202f29511ff0d",
      "sync_image_data": true,
      "width": 512
     }
    },
    "a6aaed3e246d4c0da82a549dee24e970": {
     "model_module": "@jupyter-widgets/controls",
     "model_module_version": "1.5.0",
     "model_name": "HBoxModel",
     "state": {
      "_dom_classes": [],
      "_model_module": "@jupyter-widgets/controls",
      "_model_module_version": "1.5.0",
      "_model_name": "HBoxModel",
      "_view_count": null,
      "_view_module": "@jupyter-widgets/controls",
      "_view_module_version": "1.5.0",
      "_view_name": "HBoxView",
      "box_style": "",
      "children": [
       "IPY_MODEL_72c95eede8994e32b6fac3105183c831"
      ],
      "layout": "IPY_MODEL_c9406737a60945e783e2ae76f2d2378a"
     }
    },
    "c9406737a60945e783e2ae76f2d2378a": {
     "model_module": "@jupyter-widgets/base",
     "model_module_version": "1.2.0",
     "model_name": "LayoutModel",
     "state": {
      "_model_module": "@jupyter-widgets/base",
      "_model_module_version": "1.2.0",
      "_model_name": "LayoutModel",
      "_view_count": null,
      "_view_module": "@jupyter-widgets/base",
      "_view_module_version": "1.2.0",
      "_view_name": "LayoutView",
      "align_content": null,
      "align_items": null,
      "align_self": null,
      "border": null,
      "bottom": null,
      "display": null,
      "flex": null,
      "flex_flow": null,
      "grid_area": null,
      "grid_auto_columns": null,
      "grid_auto_flow": null,
      "grid_auto_rows": null,
      "grid_column": null,
      "grid_gap": null,
      "grid_row": null,
      "grid_template_areas": null,
      "grid_template_columns": null,
      "grid_template_rows": null,
      "height": null,
      "justify_content": null,
      "justify_items": null,
      "left": null,
      "margin": null,
      "max_height": null,
      "max_width": null,
      "min_height": null,
      "min_width": null,
      "object_fit": null,
      "object_position": null,
      "order": null,
      "overflow": null,
      "overflow_x": null,
      "overflow_y": null,
      "padding": null,
      "right": null,
      "top": null,
      "visibility": null,
      "width": null
     }
    }
   }
  }
 },
 "nbformat": 4,
 "nbformat_minor": 1
}
